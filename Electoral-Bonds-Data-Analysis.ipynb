{
 "cells": [
  {
   "cell_type": "markdown",
   "id": "c38e3ad4-263f-460e-9b84-b020d554013d",
   "metadata": {},
   "source": [
    "# Electoral Bonds Data Analysis"
   ]
  },
  {
   "cell_type": "markdown",
   "id": "3b1bc1f9-8ba3-43ff-8a16-aa1f655d933c",
   "metadata": {},
   "source": [
    "## Electoral Bonds Buyer Data Analysis"
   ]
  },
  {
   "cell_type": "markdown",
   "id": "74ee474d-16df-44c2-9ff3-c7d9a5a23269",
   "metadata": {},
   "source": [
    "### Adding the imports"
   ]
  },
  {
   "cell_type": "code",
   "execution_count": 2,
   "id": "54ac150d-d734-4dbe-a266-8a3eea38a59e",
   "metadata": {},
   "outputs": [],
   "source": [
    "import pandas as pd\n",
    "import matplotlib.pyplot as plt\n",
    "import seaborn as sb\n",
    "import plotly.express as px"
   ]
  },
  {
   "cell_type": "markdown",
   "id": "a3ec01e4-2601-49e9-af32-e614ba5e5bab",
   "metadata": {},
   "source": [
    "### Creating the DataFrame"
   ]
  },
  {
   "cell_type": "code",
   "execution_count": 4,
   "id": "c1f3d6c4-4c8c-4aad-9760-1bd74c821b27",
   "metadata": {},
   "outputs": [],
   "source": [
    "dfb = pd.read_csv(\"electroral_bonds_buyer_data.csv\")"
   ]
  },
  {
   "cell_type": "markdown",
   "id": "544bf4ea-bbeb-43eb-8fc1-71a3180a7989",
   "metadata": {},
   "source": [
    "### Reading the data"
   ]
  },
  {
   "cell_type": "code",
   "execution_count": 5,
   "id": "21c03ee9-c3ae-4fb1-928f-6f346d7687c6",
   "metadata": {},
   "outputs": [
    {
     "data": {
      "text/html": [
       "<div>\n",
       "<style scoped>\n",
       "    .dataframe tbody tr th:only-of-type {\n",
       "        vertical-align: middle;\n",
       "    }\n",
       "\n",
       "    .dataframe tbody tr th {\n",
       "        vertical-align: top;\n",
       "    }\n",
       "\n",
       "    .dataframe thead th {\n",
       "        text-align: right;\n",
       "    }\n",
       "</style>\n",
       "<table border=\"1\" class=\"dataframe\">\n",
       "  <thead>\n",
       "    <tr style=\"text-align: right;\">\n",
       "      <th></th>\n",
       "      <th>Unnamed: 0</th>\n",
       "      <th>Date of Purchase</th>\n",
       "      <th>Purchaser Name</th>\n",
       "      <th>Denomination</th>\n",
       "    </tr>\n",
       "  </thead>\n",
       "  <tbody>\n",
       "    <tr>\n",
       "      <th>0</th>\n",
       "      <td>0</td>\n",
       "      <td>12/Apr/2019</td>\n",
       "      <td>A B C INDIA LIMITED</td>\n",
       "      <td>100000</td>\n",
       "    </tr>\n",
       "    <tr>\n",
       "      <th>1</th>\n",
       "      <td>1</td>\n",
       "      <td>12/Apr/2019</td>\n",
       "      <td>A B C INDIA LIMITED</td>\n",
       "      <td>100000</td>\n",
       "    </tr>\n",
       "    <tr>\n",
       "      <th>2</th>\n",
       "      <td>2</td>\n",
       "      <td>12/Apr/2019</td>\n",
       "      <td>A B C INDIA LIMITED</td>\n",
       "      <td>1000000</td>\n",
       "    </tr>\n",
       "    <tr>\n",
       "      <th>3</th>\n",
       "      <td>3</td>\n",
       "      <td>12/Apr/2019</td>\n",
       "      <td>A B C INDIA LIMITED</td>\n",
       "      <td>1000000</td>\n",
       "    </tr>\n",
       "    <tr>\n",
       "      <th>4</th>\n",
       "      <td>4</td>\n",
       "      <td>12/Apr/2019</td>\n",
       "      <td>A B C INDIA LIMITED</td>\n",
       "      <td>100000</td>\n",
       "    </tr>\n",
       "  </tbody>\n",
       "</table>\n",
       "</div>"
      ],
      "text/plain": [
       "   Unnamed: 0 Date of Purchase       Purchaser Name  Denomination\n",
       "0           0      12/Apr/2019  A B C INDIA LIMITED        100000\n",
       "1           1      12/Apr/2019  A B C INDIA LIMITED        100000\n",
       "2           2      12/Apr/2019  A B C INDIA LIMITED       1000000\n",
       "3           3      12/Apr/2019  A B C INDIA LIMITED       1000000\n",
       "4           4      12/Apr/2019  A B C INDIA LIMITED        100000"
      ]
     },
     "execution_count": 5,
     "metadata": {},
     "output_type": "execute_result"
    }
   ],
   "source": [
    "dfb.head()"
   ]
  },
  {
   "cell_type": "code",
   "execution_count": 6,
   "id": "5a57c146-5da3-4f5d-ab8e-6229f20a441a",
   "metadata": {},
   "outputs": [
    {
     "data": {
      "text/html": [
       "<div>\n",
       "<style scoped>\n",
       "    .dataframe tbody tr th:only-of-type {\n",
       "        vertical-align: middle;\n",
       "    }\n",
       "\n",
       "    .dataframe tbody tr th {\n",
       "        vertical-align: top;\n",
       "    }\n",
       "\n",
       "    .dataframe thead th {\n",
       "        text-align: right;\n",
       "    }\n",
       "</style>\n",
       "<table border=\"1\" class=\"dataframe\">\n",
       "  <thead>\n",
       "    <tr style=\"text-align: right;\">\n",
       "      <th></th>\n",
       "      <th>Unnamed: 0</th>\n",
       "      <th>Date of Purchase</th>\n",
       "      <th>Purchaser Name</th>\n",
       "      <th>Denomination</th>\n",
       "    </tr>\n",
       "  </thead>\n",
       "  <tbody>\n",
       "    <tr>\n",
       "      <th>18866</th>\n",
       "      <td>18866</td>\n",
       "      <td>11/Jan/2024</td>\n",
       "      <td>WESTWELL GASES PRIVATE LIMITED</td>\n",
       "      <td>10000000</td>\n",
       "    </tr>\n",
       "    <tr>\n",
       "      <th>18867</th>\n",
       "      <td>18867</td>\n",
       "      <td>11/Jan/2024</td>\n",
       "      <td>WESTWELL GASES PRIVATE LIMITED</td>\n",
       "      <td>10000000</td>\n",
       "    </tr>\n",
       "    <tr>\n",
       "      <th>18868</th>\n",
       "      <td>18868</td>\n",
       "      <td>11/Jan/2024</td>\n",
       "      <td>WESTWELL GASES PRIVATE LIMITED</td>\n",
       "      <td>10000000</td>\n",
       "    </tr>\n",
       "    <tr>\n",
       "      <th>18869</th>\n",
       "      <td>18869</td>\n",
       "      <td>11/Jan/2024</td>\n",
       "      <td>WESTWELL GASES PRIVATE LIMITED</td>\n",
       "      <td>10000000</td>\n",
       "    </tr>\n",
       "    <tr>\n",
       "      <th>18870</th>\n",
       "      <td>18870</td>\n",
       "      <td>11/Jan/2024</td>\n",
       "      <td>WESTWELL GASES PRIVATE LIMITED</td>\n",
       "      <td>10000000</td>\n",
       "    </tr>\n",
       "  </tbody>\n",
       "</table>\n",
       "</div>"
      ],
      "text/plain": [
       "       Unnamed: 0 Date of Purchase                  Purchaser Name  \\\n",
       "18866       18866      11/Jan/2024  WESTWELL GASES PRIVATE LIMITED   \n",
       "18867       18867      11/Jan/2024  WESTWELL GASES PRIVATE LIMITED   \n",
       "18868       18868      11/Jan/2024  WESTWELL GASES PRIVATE LIMITED   \n",
       "18869       18869      11/Jan/2024  WESTWELL GASES PRIVATE LIMITED   \n",
       "18870       18870      11/Jan/2024  WESTWELL GASES PRIVATE LIMITED   \n",
       "\n",
       "       Denomination  \n",
       "18866      10000000  \n",
       "18867      10000000  \n",
       "18868      10000000  \n",
       "18869      10000000  \n",
       "18870      10000000  "
      ]
     },
     "execution_count": 6,
     "metadata": {},
     "output_type": "execute_result"
    }
   ],
   "source": [
    "dfb.tail()"
   ]
  },
  {
   "cell_type": "markdown",
   "id": "e94c159c-bfa7-432f-9456-72c7a15e62c8",
   "metadata": {},
   "source": [
    "### Exploring the data"
   ]
  },
  {
   "cell_type": "code",
   "execution_count": 7,
   "id": "aae27532-ed28-4fbb-8436-cb1e77728596",
   "metadata": {},
   "outputs": [
    {
     "data": {
      "text/plain": [
       "(18871, 4)"
      ]
     },
     "execution_count": 7,
     "metadata": {},
     "output_type": "execute_result"
    }
   ],
   "source": [
    "dfb.shape"
   ]
  },
  {
   "cell_type": "code",
   "execution_count": 8,
   "id": "c061db8a-c3e3-46df-96b3-4393d41e3bca",
   "metadata": {},
   "outputs": [
    {
     "data": {
      "text/plain": [
       "Index(['Unnamed: 0', 'Date of Purchase', 'Purchaser Name', 'Denomination'], dtype='object')"
      ]
     },
     "execution_count": 8,
     "metadata": {},
     "output_type": "execute_result"
    }
   ],
   "source": [
    "dfb.columns"
   ]
  },
  {
   "cell_type": "code",
   "execution_count": 9,
   "id": "5d93bb72-23b2-4ad5-a775-91e7af62cda5",
   "metadata": {},
   "outputs": [
    {
     "name": "stdout",
     "output_type": "stream",
     "text": [
      "<class 'pandas.core.frame.DataFrame'>\n",
      "RangeIndex: 18871 entries, 0 to 18870\n",
      "Data columns (total 4 columns):\n",
      " #   Column            Non-Null Count  Dtype \n",
      "---  ------            --------------  ----- \n",
      " 0   Unnamed: 0        18871 non-null  int64 \n",
      " 1   Date of Purchase  18871 non-null  object\n",
      " 2   Purchaser Name    18871 non-null  object\n",
      " 3   Denomination      18871 non-null  int64 \n",
      "dtypes: int64(2), object(2)\n",
      "memory usage: 589.8+ KB\n"
     ]
    }
   ],
   "source": [
    "dfb.info()"
   ]
  },
  {
   "cell_type": "markdown",
   "id": "14b22291-0b95-4823-a869-d409fa88da90",
   "metadata": {},
   "source": [
    "### Filtering and exploring the _null_ values"
   ]
  },
  {
   "cell_type": "code",
   "execution_count": 10,
   "id": "557726ca-c5f6-41a0-9dda-4265babcff43",
   "metadata": {},
   "outputs": [
    {
     "data": {
      "text/plain": [
       "Unnamed: 0          0\n",
       "Date of Purchase    0\n",
       "Purchaser Name      0\n",
       "Denomination        0\n",
       "dtype: int64"
      ]
     },
     "execution_count": 10,
     "metadata": {},
     "output_type": "execute_result"
    }
   ],
   "source": [
    "dfb.isnull().sum()"
   ]
  },
  {
   "cell_type": "markdown",
   "id": "166535e7-2a77-48f5-99fc-9bb0ef76c292",
   "metadata": {},
   "source": [
    "### Data Types"
   ]
  },
  {
   "cell_type": "code",
   "execution_count": 12,
   "id": "4da76160-3dc7-432b-81b1-c3a48759bf51",
   "metadata": {},
   "outputs": [
    {
     "data": {
      "text/plain": [
       "Unnamed: 0           int64\n",
       "Date of Purchase    object\n",
       "Purchaser Name      object\n",
       "Denomination         int64\n",
       "dtype: object"
      ]
     },
     "execution_count": 12,
     "metadata": {},
     "output_type": "execute_result"
    }
   ],
   "source": [
    "dfb.dtypes"
   ]
  },
  {
   "cell_type": "markdown",
   "id": "2e3f8e45-f314-4e97-9b9b-7e15f0472df9",
   "metadata": {},
   "source": [
    "### Changing the column name \"Unnamed: 0\" to \"id\""
   ]
  },
  {
   "cell_type": "code",
   "execution_count": 15,
   "id": "026807cd-7bcf-4bfe-a875-538bb6f4ae8b",
   "metadata": {},
   "outputs": [],
   "source": [
    "dfb.rename(columns = {\"Unnamed: 0\":\"id\"}, inplace = True)"
   ]
  },
  {
   "cell_type": "code",
   "execution_count": 17,
   "id": "6f232c6c-64fb-4f71-8e90-f629be370e4d",
   "metadata": {},
   "outputs": [
    {
     "data": {
      "text/html": [
       "<div>\n",
       "<style scoped>\n",
       "    .dataframe tbody tr th:only-of-type {\n",
       "        vertical-align: middle;\n",
       "    }\n",
       "\n",
       "    .dataframe tbody tr th {\n",
       "        vertical-align: top;\n",
       "    }\n",
       "\n",
       "    .dataframe thead th {\n",
       "        text-align: right;\n",
       "    }\n",
       "</style>\n",
       "<table border=\"1\" class=\"dataframe\">\n",
       "  <thead>\n",
       "    <tr style=\"text-align: right;\">\n",
       "      <th></th>\n",
       "      <th>id</th>\n",
       "      <th>Date of Purchase</th>\n",
       "      <th>Purchaser Name</th>\n",
       "      <th>Denomination</th>\n",
       "    </tr>\n",
       "  </thead>\n",
       "  <tbody>\n",
       "    <tr>\n",
       "      <th>0</th>\n",
       "      <td>0</td>\n",
       "      <td>12/Apr/2019</td>\n",
       "      <td>A B C INDIA LIMITED</td>\n",
       "      <td>100000</td>\n",
       "    </tr>\n",
       "    <tr>\n",
       "      <th>1</th>\n",
       "      <td>1</td>\n",
       "      <td>12/Apr/2019</td>\n",
       "      <td>A B C INDIA LIMITED</td>\n",
       "      <td>100000</td>\n",
       "    </tr>\n",
       "  </tbody>\n",
       "</table>\n",
       "</div>"
      ],
      "text/plain": [
       "   id Date of Purchase       Purchaser Name  Denomination\n",
       "0   0      12/Apr/2019  A B C INDIA LIMITED        100000\n",
       "1   1      12/Apr/2019  A B C INDIA LIMITED        100000"
      ]
     },
     "execution_count": 17,
     "metadata": {},
     "output_type": "execute_result"
    }
   ],
   "source": [
    "dfb.head(2)"
   ]
  },
  {
   "cell_type": "code",
   "execution_count": null,
   "id": "cd26610c-7d47-49ae-91b7-08e7dec5b54d",
   "metadata": {},
   "outputs": [],
   "source": []
  }
 ],
 "metadata": {
  "kernelspec": {
   "display_name": "Python 3 (ipykernel)",
   "language": "python",
   "name": "python3"
  },
  "language_info": {
   "codemirror_mode": {
    "name": "ipython",
    "version": 3
   },
   "file_extension": ".py",
   "mimetype": "text/x-python",
   "name": "python",
   "nbconvert_exporter": "python",
   "pygments_lexer": "ipython3",
   "version": "3.12.1"
  }
 },
 "nbformat": 4,
 "nbformat_minor": 5
}
