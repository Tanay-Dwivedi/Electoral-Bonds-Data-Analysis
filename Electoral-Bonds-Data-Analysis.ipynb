{
 "cells": [
  {
   "cell_type": "markdown",
   "id": "c38e3ad4-263f-460e-9b84-b020d554013d",
   "metadata": {},
   "source": [
    "# Electoral Bonds Data Analysis"
   ]
  },
  {
   "cell_type": "markdown",
   "id": "3b1bc1f9-8ba3-43ff-8a16-aa1f655d933c",
   "metadata": {},
   "source": [
    "## Electoral Bonds Buyer Data Analysis"
   ]
  },
  {
   "cell_type": "markdown",
   "id": "74ee474d-16df-44c2-9ff3-c7d9a5a23269",
   "metadata": {},
   "source": [
    "### Adding the imports"
   ]
  },
  {
   "cell_type": "code",
   "execution_count": 2,
   "id": "54ac150d-d734-4dbe-a266-8a3eea38a59e",
   "metadata": {},
   "outputs": [],
   "source": [
    "import pandas as pd\n",
    "import matplotlib.pyplot as plt\n",
    "import seaborn as sb\n",
    "import plotly.express as px"
   ]
  },
  {
   "cell_type": "markdown",
   "id": "a3ec01e4-2601-49e9-af32-e614ba5e5bab",
   "metadata": {},
   "source": [
    "### Creating the DataFrame"
   ]
  },
  {
   "cell_type": "code",
   "execution_count": 4,
   "id": "c1f3d6c4-4c8c-4aad-9760-1bd74c821b27",
   "metadata": {},
   "outputs": [],
   "source": [
    "dfb = pd.read_csv(\"electroral_bonds_buyer_data.csv\")"
   ]
  },
  {
   "cell_type": "markdown",
   "id": "544bf4ea-bbeb-43eb-8fc1-71a3180a7989",
   "metadata": {},
   "source": [
    "### Reading the data"
   ]
  },
  {
   "cell_type": "code",
   "execution_count": 5,
   "id": "21c03ee9-c3ae-4fb1-928f-6f346d7687c6",
   "metadata": {},
   "outputs": [
    {
     "data": {
      "text/html": [
       "<div>\n",
       "<style scoped>\n",
       "    .dataframe tbody tr th:only-of-type {\n",
       "        vertical-align: middle;\n",
       "    }\n",
       "\n",
       "    .dataframe tbody tr th {\n",
       "        vertical-align: top;\n",
       "    }\n",
       "\n",
       "    .dataframe thead th {\n",
       "        text-align: right;\n",
       "    }\n",
       "</style>\n",
       "<table border=\"1\" class=\"dataframe\">\n",
       "  <thead>\n",
       "    <tr style=\"text-align: right;\">\n",
       "      <th></th>\n",
       "      <th>Unnamed: 0</th>\n",
       "      <th>Date of Purchase</th>\n",
       "      <th>Purchaser Name</th>\n",
       "      <th>Denomination</th>\n",
       "    </tr>\n",
       "  </thead>\n",
       "  <tbody>\n",
       "    <tr>\n",
       "      <th>0</th>\n",
       "      <td>0</td>\n",
       "      <td>12/Apr/2019</td>\n",
       "      <td>A B C INDIA LIMITED</td>\n",
       "      <td>100000</td>\n",
       "    </tr>\n",
       "    <tr>\n",
       "      <th>1</th>\n",
       "      <td>1</td>\n",
       "      <td>12/Apr/2019</td>\n",
       "      <td>A B C INDIA LIMITED</td>\n",
       "      <td>100000</td>\n",
       "    </tr>\n",
       "    <tr>\n",
       "      <th>2</th>\n",
       "      <td>2</td>\n",
       "      <td>12/Apr/2019</td>\n",
       "      <td>A B C INDIA LIMITED</td>\n",
       "      <td>1000000</td>\n",
       "    </tr>\n",
       "    <tr>\n",
       "      <th>3</th>\n",
       "      <td>3</td>\n",
       "      <td>12/Apr/2019</td>\n",
       "      <td>A B C INDIA LIMITED</td>\n",
       "      <td>1000000</td>\n",
       "    </tr>\n",
       "    <tr>\n",
       "      <th>4</th>\n",
       "      <td>4</td>\n",
       "      <td>12/Apr/2019</td>\n",
       "      <td>A B C INDIA LIMITED</td>\n",
       "      <td>100000</td>\n",
       "    </tr>\n",
       "  </tbody>\n",
       "</table>\n",
       "</div>"
      ],
      "text/plain": [
       "   Unnamed: 0 Date of Purchase       Purchaser Name  Denomination\n",
       "0           0      12/Apr/2019  A B C INDIA LIMITED        100000\n",
       "1           1      12/Apr/2019  A B C INDIA LIMITED        100000\n",
       "2           2      12/Apr/2019  A B C INDIA LIMITED       1000000\n",
       "3           3      12/Apr/2019  A B C INDIA LIMITED       1000000\n",
       "4           4      12/Apr/2019  A B C INDIA LIMITED        100000"
      ]
     },
     "execution_count": 5,
     "metadata": {},
     "output_type": "execute_result"
    }
   ],
   "source": [
    "dfb.head()"
   ]
  },
  {
   "cell_type": "code",
   "execution_count": 6,
   "id": "5a57c146-5da3-4f5d-ab8e-6229f20a441a",
   "metadata": {},
   "outputs": [
    {
     "data": {
      "text/html": [
       "<div>\n",
       "<style scoped>\n",
       "    .dataframe tbody tr th:only-of-type {\n",
       "        vertical-align: middle;\n",
       "    }\n",
       "\n",
       "    .dataframe tbody tr th {\n",
       "        vertical-align: top;\n",
       "    }\n",
       "\n",
       "    .dataframe thead th {\n",
       "        text-align: right;\n",
       "    }\n",
       "</style>\n",
       "<table border=\"1\" class=\"dataframe\">\n",
       "  <thead>\n",
       "    <tr style=\"text-align: right;\">\n",
       "      <th></th>\n",
       "      <th>Unnamed: 0</th>\n",
       "      <th>Date of Purchase</th>\n",
       "      <th>Purchaser Name</th>\n",
       "      <th>Denomination</th>\n",
       "    </tr>\n",
       "  </thead>\n",
       "  <tbody>\n",
       "    <tr>\n",
       "      <th>18866</th>\n",
       "      <td>18866</td>\n",
       "      <td>11/Jan/2024</td>\n",
       "      <td>WESTWELL GASES PRIVATE LIMITED</td>\n",
       "      <td>10000000</td>\n",
       "    </tr>\n",
       "    <tr>\n",
       "      <th>18867</th>\n",
       "      <td>18867</td>\n",
       "      <td>11/Jan/2024</td>\n",
       "      <td>WESTWELL GASES PRIVATE LIMITED</td>\n",
       "      <td>10000000</td>\n",
       "    </tr>\n",
       "    <tr>\n",
       "      <th>18868</th>\n",
       "      <td>18868</td>\n",
       "      <td>11/Jan/2024</td>\n",
       "      <td>WESTWELL GASES PRIVATE LIMITED</td>\n",
       "      <td>10000000</td>\n",
       "    </tr>\n",
       "    <tr>\n",
       "      <th>18869</th>\n",
       "      <td>18869</td>\n",
       "      <td>11/Jan/2024</td>\n",
       "      <td>WESTWELL GASES PRIVATE LIMITED</td>\n",
       "      <td>10000000</td>\n",
       "    </tr>\n",
       "    <tr>\n",
       "      <th>18870</th>\n",
       "      <td>18870</td>\n",
       "      <td>11/Jan/2024</td>\n",
       "      <td>WESTWELL GASES PRIVATE LIMITED</td>\n",
       "      <td>10000000</td>\n",
       "    </tr>\n",
       "  </tbody>\n",
       "</table>\n",
       "</div>"
      ],
      "text/plain": [
       "       Unnamed: 0 Date of Purchase                  Purchaser Name  \\\n",
       "18866       18866      11/Jan/2024  WESTWELL GASES PRIVATE LIMITED   \n",
       "18867       18867      11/Jan/2024  WESTWELL GASES PRIVATE LIMITED   \n",
       "18868       18868      11/Jan/2024  WESTWELL GASES PRIVATE LIMITED   \n",
       "18869       18869      11/Jan/2024  WESTWELL GASES PRIVATE LIMITED   \n",
       "18870       18870      11/Jan/2024  WESTWELL GASES PRIVATE LIMITED   \n",
       "\n",
       "       Denomination  \n",
       "18866      10000000  \n",
       "18867      10000000  \n",
       "18868      10000000  \n",
       "18869      10000000  \n",
       "18870      10000000  "
      ]
     },
     "execution_count": 6,
     "metadata": {},
     "output_type": "execute_result"
    }
   ],
   "source": [
    "dfb.tail()"
   ]
  },
  {
   "cell_type": "markdown",
   "id": "e94c159c-bfa7-432f-9456-72c7a15e62c8",
   "metadata": {},
   "source": [
    "### Exploring the data"
   ]
  },
  {
   "cell_type": "code",
   "execution_count": 7,
   "id": "aae27532-ed28-4fbb-8436-cb1e77728596",
   "metadata": {},
   "outputs": [
    {
     "data": {
      "text/plain": [
       "(18871, 4)"
      ]
     },
     "execution_count": 7,
     "metadata": {},
     "output_type": "execute_result"
    }
   ],
   "source": [
    "dfb.shape"
   ]
  },
  {
   "cell_type": "code",
   "execution_count": 8,
   "id": "c061db8a-c3e3-46df-96b3-4393d41e3bca",
   "metadata": {},
   "outputs": [
    {
     "data": {
      "text/plain": [
       "Index(['Unnamed: 0', 'Date of Purchase', 'Purchaser Name', 'Denomination'], dtype='object')"
      ]
     },
     "execution_count": 8,
     "metadata": {},
     "output_type": "execute_result"
    }
   ],
   "source": [
    "dfb.columns"
   ]
  },
  {
   "cell_type": "code",
   "execution_count": 9,
   "id": "5d93bb72-23b2-4ad5-a775-91e7af62cda5",
   "metadata": {},
   "outputs": [
    {
     "name": "stdout",
     "output_type": "stream",
     "text": [
      "<class 'pandas.core.frame.DataFrame'>\n",
      "RangeIndex: 18871 entries, 0 to 18870\n",
      "Data columns (total 4 columns):\n",
      " #   Column            Non-Null Count  Dtype \n",
      "---  ------            --------------  ----- \n",
      " 0   Unnamed: 0        18871 non-null  int64 \n",
      " 1   Date of Purchase  18871 non-null  object\n",
      " 2   Purchaser Name    18871 non-null  object\n",
      " 3   Denomination      18871 non-null  int64 \n",
      "dtypes: int64(2), object(2)\n",
      "memory usage: 589.8+ KB\n"
     ]
    }
   ],
   "source": [
    "dfb.info()"
   ]
  },
  {
   "cell_type": "markdown",
   "id": "14b22291-0b95-4823-a869-d409fa88da90",
   "metadata": {},
   "source": [
    "### Filtering and exploring the _null_ values"
   ]
  },
  {
   "cell_type": "code",
   "execution_count": 10,
   "id": "557726ca-c5f6-41a0-9dda-4265babcff43",
   "metadata": {},
   "outputs": [
    {
     "data": {
      "text/plain": [
       "Unnamed: 0          0\n",
       "Date of Purchase    0\n",
       "Purchaser Name      0\n",
       "Denomination        0\n",
       "dtype: int64"
      ]
     },
     "execution_count": 10,
     "metadata": {},
     "output_type": "execute_result"
    }
   ],
   "source": [
    "dfb.isnull().sum()"
   ]
  },
  {
   "cell_type": "markdown",
   "id": "166535e7-2a77-48f5-99fc-9bb0ef76c292",
   "metadata": {},
   "source": [
    "### Data Types"
   ]
  },
  {
   "cell_type": "code",
   "execution_count": 12,
   "id": "4da76160-3dc7-432b-81b1-c3a48759bf51",
   "metadata": {},
   "outputs": [
    {
     "data": {
      "text/plain": [
       "Unnamed: 0           int64\n",
       "Date of Purchase    object\n",
       "Purchaser Name      object\n",
       "Denomination         int64\n",
       "dtype: object"
      ]
     },
     "execution_count": 12,
     "metadata": {},
     "output_type": "execute_result"
    }
   ],
   "source": [
    "dfb.dtypes"
   ]
  },
  {
   "cell_type": "markdown",
   "id": "2e3f8e45-f314-4e97-9b9b-7e15f0472df9",
   "metadata": {},
   "source": [
    "### Changing the column name \"Unnamed: 0\" to \"id\""
   ]
  },
  {
   "cell_type": "code",
   "execution_count": 15,
   "id": "026807cd-7bcf-4bfe-a875-538bb6f4ae8b",
   "metadata": {},
   "outputs": [],
   "source": [
    "dfb.rename(columns = {\"Unnamed: 0\":\"id\"}, inplace = True)"
   ]
  },
  {
   "cell_type": "code",
   "execution_count": 17,
   "id": "6f232c6c-64fb-4f71-8e90-f629be370e4d",
   "metadata": {},
   "outputs": [
    {
     "data": {
      "text/html": [
       "<div>\n",
       "<style scoped>\n",
       "    .dataframe tbody tr th:only-of-type {\n",
       "        vertical-align: middle;\n",
       "    }\n",
       "\n",
       "    .dataframe tbody tr th {\n",
       "        vertical-align: top;\n",
       "    }\n",
       "\n",
       "    .dataframe thead th {\n",
       "        text-align: right;\n",
       "    }\n",
       "</style>\n",
       "<table border=\"1\" class=\"dataframe\">\n",
       "  <thead>\n",
       "    <tr style=\"text-align: right;\">\n",
       "      <th></th>\n",
       "      <th>id</th>\n",
       "      <th>Date of Purchase</th>\n",
       "      <th>Purchaser Name</th>\n",
       "      <th>Denomination</th>\n",
       "    </tr>\n",
       "  </thead>\n",
       "  <tbody>\n",
       "    <tr>\n",
       "      <th>0</th>\n",
       "      <td>0</td>\n",
       "      <td>12/Apr/2019</td>\n",
       "      <td>A B C INDIA LIMITED</td>\n",
       "      <td>100000</td>\n",
       "    </tr>\n",
       "    <tr>\n",
       "      <th>1</th>\n",
       "      <td>1</td>\n",
       "      <td>12/Apr/2019</td>\n",
       "      <td>A B C INDIA LIMITED</td>\n",
       "      <td>100000</td>\n",
       "    </tr>\n",
       "  </tbody>\n",
       "</table>\n",
       "</div>"
      ],
      "text/plain": [
       "   id Date of Purchase       Purchaser Name  Denomination\n",
       "0   0      12/Apr/2019  A B C INDIA LIMITED        100000\n",
       "1   1      12/Apr/2019  A B C INDIA LIMITED        100000"
      ]
     },
     "execution_count": 17,
     "metadata": {},
     "output_type": "execute_result"
    }
   ],
   "source": [
    "dfb.head(2)"
   ]
  },
  {
   "cell_type": "markdown",
   "id": "1e2b8c6f-8f46-44f3-8a8e-435530611bf7",
   "metadata": {},
   "source": [
    "### Renaming the columns"
   ]
  },
  {
   "cell_type": "code",
   "execution_count": 18,
   "id": "d20cc137-b45e-4e1c-be41-83e5e6cf52ff",
   "metadata": {},
   "outputs": [],
   "source": [
    "dfb.rename(columns = {\n",
    "    \"Date of Purchase\": \"date_of_purchase\",\n",
    "    \"Purchaser Name\": \"purchaser_name\",\n",
    "    \"Denomination\": \"denomination\"\n",
    "}, inplace = True)"
   ]
  },
  {
   "cell_type": "code",
   "execution_count": 20,
   "id": "fb58e473-f819-4d6d-8dfb-2ed4577b39ed",
   "metadata": {},
   "outputs": [
    {
     "data": {
      "text/html": [
       "<div>\n",
       "<style scoped>\n",
       "    .dataframe tbody tr th:only-of-type {\n",
       "        vertical-align: middle;\n",
       "    }\n",
       "\n",
       "    .dataframe tbody tr th {\n",
       "        vertical-align: top;\n",
       "    }\n",
       "\n",
       "    .dataframe thead th {\n",
       "        text-align: right;\n",
       "    }\n",
       "</style>\n",
       "<table border=\"1\" class=\"dataframe\">\n",
       "  <thead>\n",
       "    <tr style=\"text-align: right;\">\n",
       "      <th></th>\n",
       "      <th>id</th>\n",
       "      <th>date_of_purchase</th>\n",
       "      <th>purchaser_name</th>\n",
       "      <th>denomination</th>\n",
       "    </tr>\n",
       "  </thead>\n",
       "  <tbody>\n",
       "    <tr>\n",
       "      <th>0</th>\n",
       "      <td>0</td>\n",
       "      <td>12/Apr/2019</td>\n",
       "      <td>A B C INDIA LIMITED</td>\n",
       "      <td>100000</td>\n",
       "    </tr>\n",
       "    <tr>\n",
       "      <th>1</th>\n",
       "      <td>1</td>\n",
       "      <td>12/Apr/2019</td>\n",
       "      <td>A B C INDIA LIMITED</td>\n",
       "      <td>100000</td>\n",
       "    </tr>\n",
       "  </tbody>\n",
       "</table>\n",
       "</div>"
      ],
      "text/plain": [
       "   id date_of_purchase       purchaser_name  denomination\n",
       "0   0      12/Apr/2019  A B C INDIA LIMITED        100000\n",
       "1   1      12/Apr/2019  A B C INDIA LIMITED        100000"
      ]
     },
     "execution_count": 20,
     "metadata": {},
     "output_type": "execute_result"
    }
   ],
   "source": [
    "dfb.head(2)"
   ]
  },
  {
   "cell_type": "markdown",
   "id": "54b9d979-b38b-485b-ada2-72872c882681",
   "metadata": {},
   "source": [
    "### Converting the \"date_of_purchase\" column datatype to date-time format"
   ]
  },
  {
   "cell_type": "code",
   "execution_count": 22,
   "id": "ece5806b-4c7d-48d3-b3b4-32ee098a15a0",
   "metadata": {},
   "outputs": [],
   "source": [
    "dfb['date_of_purchase'] = pd.to_datetime(dfb['date_of_purchase'])"
   ]
  },
  {
   "cell_type": "code",
   "execution_count": 23,
   "id": "d98eaf35-2e91-426e-98d7-b2aa22e1098a",
   "metadata": {},
   "outputs": [
    {
     "data": {
      "text/plain": [
       "id                           int64\n",
       "date_of_purchase    datetime64[ns]\n",
       "purchaser_name              object\n",
       "denomination                 int64\n",
       "dtype: object"
      ]
     },
     "execution_count": 23,
     "metadata": {},
     "output_type": "execute_result"
    }
   ],
   "source": [
    "dfb.dtypes"
   ]
  },
  {
   "cell_type": "code",
   "execution_count": 24,
   "id": "a2a0e37c-9ec4-4484-95b6-af41e238ad0f",
   "metadata": {},
   "outputs": [
    {
     "data": {
      "text/html": [
       "<div>\n",
       "<style scoped>\n",
       "    .dataframe tbody tr th:only-of-type {\n",
       "        vertical-align: middle;\n",
       "    }\n",
       "\n",
       "    .dataframe tbody tr th {\n",
       "        vertical-align: top;\n",
       "    }\n",
       "\n",
       "    .dataframe thead th {\n",
       "        text-align: right;\n",
       "    }\n",
       "</style>\n",
       "<table border=\"1\" class=\"dataframe\">\n",
       "  <thead>\n",
       "    <tr style=\"text-align: right;\">\n",
       "      <th></th>\n",
       "      <th>id</th>\n",
       "      <th>date_of_purchase</th>\n",
       "      <th>purchaser_name</th>\n",
       "      <th>denomination</th>\n",
       "    </tr>\n",
       "  </thead>\n",
       "  <tbody>\n",
       "    <tr>\n",
       "      <th>0</th>\n",
       "      <td>0</td>\n",
       "      <td>2019-04-12</td>\n",
       "      <td>A B C INDIA LIMITED</td>\n",
       "      <td>100000</td>\n",
       "    </tr>\n",
       "    <tr>\n",
       "      <th>1</th>\n",
       "      <td>1</td>\n",
       "      <td>2019-04-12</td>\n",
       "      <td>A B C INDIA LIMITED</td>\n",
       "      <td>100000</td>\n",
       "    </tr>\n",
       "  </tbody>\n",
       "</table>\n",
       "</div>"
      ],
      "text/plain": [
       "   id date_of_purchase       purchaser_name  denomination\n",
       "0   0       2019-04-12  A B C INDIA LIMITED        100000\n",
       "1   1       2019-04-12  A B C INDIA LIMITED        100000"
      ]
     },
     "execution_count": 24,
     "metadata": {},
     "output_type": "execute_result"
    }
   ],
   "source": [
    "dfb.head(2)"
   ]
  },
  {
   "cell_type": "markdown",
   "id": "ba37d8ae-7d8c-4a7b-80ff-8a80014a05e3",
   "metadata": {},
   "source": [
    "### Adding the \"Year\" column"
   ]
  },
  {
   "cell_type": "code",
   "execution_count": 26,
   "id": "76398e36-bb47-4192-ac4a-41d6da7cbe7a",
   "metadata": {},
   "outputs": [],
   "source": [
    "dfb[\"Year\"] = pd.to_datetime(dfb[\"date_of_purchase\"]).dt.year"
   ]
  },
  {
   "cell_type": "code",
   "execution_count": 27,
   "id": "7664eda3-6ad8-4545-8c0e-f29aa90f5ec6",
   "metadata": {},
   "outputs": [
    {
     "data": {
      "text/html": [
       "<div>\n",
       "<style scoped>\n",
       "    .dataframe tbody tr th:only-of-type {\n",
       "        vertical-align: middle;\n",
       "    }\n",
       "\n",
       "    .dataframe tbody tr th {\n",
       "        vertical-align: top;\n",
       "    }\n",
       "\n",
       "    .dataframe thead th {\n",
       "        text-align: right;\n",
       "    }\n",
       "</style>\n",
       "<table border=\"1\" class=\"dataframe\">\n",
       "  <thead>\n",
       "    <tr style=\"text-align: right;\">\n",
       "      <th></th>\n",
       "      <th>id</th>\n",
       "      <th>date_of_purchase</th>\n",
       "      <th>purchaser_name</th>\n",
       "      <th>denomination</th>\n",
       "      <th>Year</th>\n",
       "    </tr>\n",
       "  </thead>\n",
       "  <tbody>\n",
       "    <tr>\n",
       "      <th>0</th>\n",
       "      <td>0</td>\n",
       "      <td>2019-04-12</td>\n",
       "      <td>A B C INDIA LIMITED</td>\n",
       "      <td>100000</td>\n",
       "      <td>2019</td>\n",
       "    </tr>\n",
       "    <tr>\n",
       "      <th>1</th>\n",
       "      <td>1</td>\n",
       "      <td>2019-04-12</td>\n",
       "      <td>A B C INDIA LIMITED</td>\n",
       "      <td>100000</td>\n",
       "      <td>2019</td>\n",
       "    </tr>\n",
       "  </tbody>\n",
       "</table>\n",
       "</div>"
      ],
      "text/plain": [
       "   id date_of_purchase       purchaser_name  denomination  Year\n",
       "0   0       2019-04-12  A B C INDIA LIMITED        100000  2019\n",
       "1   1       2019-04-12  A B C INDIA LIMITED        100000  2019"
      ]
     },
     "execution_count": 27,
     "metadata": {},
     "output_type": "execute_result"
    }
   ],
   "source": [
    "dfb.head(2)"
   ]
  },
  {
   "cell_type": "markdown",
   "id": "225909a3-eba0-4a7a-9c82-1cb66e6d415c",
   "metadata": {},
   "source": [
    "### Adding the \"Month\" column"
   ]
  },
  {
   "cell_type": "code",
   "execution_count": 28,
   "id": "fb18dc84-e0db-4616-8fae-b7bb7ef860da",
   "metadata": {},
   "outputs": [],
   "source": [
    "dfb[\"Month\"] = pd.to_datetime(dfb[\"date_of_purchase\"]).dt.month"
   ]
  },
  {
   "cell_type": "code",
   "execution_count": 29,
   "id": "ca4c6063-7c4b-4af6-b995-e0566a7155c5",
   "metadata": {},
   "outputs": [
    {
     "data": {
      "text/html": [
       "<div>\n",
       "<style scoped>\n",
       "    .dataframe tbody tr th:only-of-type {\n",
       "        vertical-align: middle;\n",
       "    }\n",
       "\n",
       "    .dataframe tbody tr th {\n",
       "        vertical-align: top;\n",
       "    }\n",
       "\n",
       "    .dataframe thead th {\n",
       "        text-align: right;\n",
       "    }\n",
       "</style>\n",
       "<table border=\"1\" class=\"dataframe\">\n",
       "  <thead>\n",
       "    <tr style=\"text-align: right;\">\n",
       "      <th></th>\n",
       "      <th>id</th>\n",
       "      <th>date_of_purchase</th>\n",
       "      <th>purchaser_name</th>\n",
       "      <th>denomination</th>\n",
       "      <th>Year</th>\n",
       "      <th>Month</th>\n",
       "    </tr>\n",
       "  </thead>\n",
       "  <tbody>\n",
       "    <tr>\n",
       "      <th>0</th>\n",
       "      <td>0</td>\n",
       "      <td>2019-04-12</td>\n",
       "      <td>A B C INDIA LIMITED</td>\n",
       "      <td>100000</td>\n",
       "      <td>2019</td>\n",
       "      <td>4</td>\n",
       "    </tr>\n",
       "    <tr>\n",
       "      <th>1</th>\n",
       "      <td>1</td>\n",
       "      <td>2019-04-12</td>\n",
       "      <td>A B C INDIA LIMITED</td>\n",
       "      <td>100000</td>\n",
       "      <td>2019</td>\n",
       "      <td>4</td>\n",
       "    </tr>\n",
       "  </tbody>\n",
       "</table>\n",
       "</div>"
      ],
      "text/plain": [
       "   id date_of_purchase       purchaser_name  denomination  Year  Month\n",
       "0   0       2019-04-12  A B C INDIA LIMITED        100000  2019      4\n",
       "1   1       2019-04-12  A B C INDIA LIMITED        100000  2019      4"
      ]
     },
     "execution_count": 29,
     "metadata": {},
     "output_type": "execute_result"
    }
   ],
   "source": [
    "dfb.head(2)"
   ]
  },
  {
   "cell_type": "markdown",
   "id": "601a170a-b5e5-4657-bc3c-2880f4ed47bd",
   "metadata": {},
   "source": [
    "## Research Questions"
   ]
  },
  {
   "cell_type": "markdown",
   "id": "f71f930e-6655-487a-81c9-85f6a43358ab",
   "metadata": {},
   "source": [
    "### Find all the unique purchasers of the electoral bonds"
   ]
  },
  {
   "cell_type": "code",
   "execution_count": 32,
   "id": "fde19d3e-fcff-471a-9d0b-2a4ca0b9ba56",
   "metadata": {},
   "outputs": [
    {
     "data": {
      "text/plain": [
       "array(['A B C INDIA LIMITED',\n",
       "       'ACROPOLIS MAINTENANCE SERVICES PRIVATE LIMITED',\n",
       "       'ARIHANT ENTERPRISES', ..., 'VEDIKA VANIJYA PVT LTD-SELF A/C',\n",
       "       'VIDUR GUPTA', 'VIHAAN AUTO VENTURES PRIVATE LIMITED'],\n",
       "      dtype=object)"
      ]
     },
     "execution_count": 32,
     "metadata": {},
     "output_type": "execute_result"
    }
   ],
   "source": [
    "dfb[\"purchaser_name\"].unique()"
   ]
  },
  {
   "cell_type": "markdown",
   "id": "e1731a20-cd9e-4795-b0ff-757bfc7feec5",
   "metadata": {},
   "source": [
    "### Find the total sum of denomination done by each purchaser"
   ]
  },
  {
   "cell_type": "code",
   "execution_count": 41,
   "id": "fba5fbae-502d-4372-b2cd-978a23a0205a",
   "metadata": {},
   "outputs": [
    {
     "data": {
      "text/plain": [
       "purchaser_name\n",
       "FUTURE GAMING AND HOTEL SERVICES PR               12080000000\n",
       "MEGHA ENGINEERING AND INFRASTRUCTURES LI MITED     8210000000\n",
       "QWIKSUPPLYCHAINPRIVATELIMITED                      4100000000\n",
       "HALDIA ENERGY LIMITED                              3770000000\n",
       "VEDANTA LIMITED                                    3756500000\n",
       "                                                     ...     \n",
       "POONAM AGARWAL                                           1000\n",
       "KUNAL GUPTA                                              1000\n",
       "N RAMAMOORTHY                                            1000\n",
       "ANKUR SINGHAL S O SH ANIL SIN                            1000\n",
       "MR. SAMEER BHATIA                                        1000\n",
       "Name: denomination, Length: 1316, dtype: int64"
      ]
     },
     "execution_count": 41,
     "metadata": {},
     "output_type": "execute_result"
    }
   ],
   "source": [
    "dfb.groupby('purchaser_name')['denomination'].sum().sort_values(ascending = False)"
   ]
  },
  {
   "cell_type": "markdown",
   "id": "7aef0798-88bb-4198-9bcf-ce61dab77564",
   "metadata": {},
   "source": [
    "### Find the counts of purchases done for each year from 2019 to 2024"
   ]
  },
  {
   "cell_type": "code",
   "execution_count": 42,
   "id": "ec077cc0-37f8-4e99-9c1c-df275f2181f8",
   "metadata": {},
   "outputs": [
    {
     "data": {
      "text/plain": [
       "Year\n",
       "2023    6399\n",
       "2022    5314\n",
       "2019    3154\n",
       "2021    2647\n",
       "2024     897\n",
       "2020     460\n",
       "Name: count, dtype: int64"
      ]
     },
     "execution_count": 42,
     "metadata": {},
     "output_type": "execute_result"
    }
   ],
   "source": [
    "dfb[\"Year\"].value_counts()"
   ]
  },
  {
   "cell_type": "markdown",
   "id": "e0d9de8a-d4af-4ce9-aff0-77a9ad6967ec",
   "metadata": {},
   "source": [
    "### Describe the dataset"
   ]
  },
  {
   "cell_type": "code",
   "execution_count": 44,
   "id": "7570a9e4-c279-47de-b2cf-8dc4522237ae",
   "metadata": {},
   "outputs": [
    {
     "data": {
      "text/html": [
       "<div>\n",
       "<style scoped>\n",
       "    .dataframe tbody tr th:only-of-type {\n",
       "        vertical-align: middle;\n",
       "    }\n",
       "\n",
       "    .dataframe tbody tr th {\n",
       "        vertical-align: top;\n",
       "    }\n",
       "\n",
       "    .dataframe thead th {\n",
       "        text-align: right;\n",
       "    }\n",
       "</style>\n",
       "<table border=\"1\" class=\"dataframe\">\n",
       "  <thead>\n",
       "    <tr style=\"text-align: right;\">\n",
       "      <th></th>\n",
       "      <th>id</th>\n",
       "      <th>date_of_purchase</th>\n",
       "      <th>denomination</th>\n",
       "      <th>Year</th>\n",
       "      <th>Month</th>\n",
       "    </tr>\n",
       "  </thead>\n",
       "  <tbody>\n",
       "    <tr>\n",
       "      <th>count</th>\n",
       "      <td>18871.000000</td>\n",
       "      <td>18871</td>\n",
       "      <td>1.887100e+04</td>\n",
       "      <td>18871.000000</td>\n",
       "      <td>18871.000000</td>\n",
       "    </tr>\n",
       "    <tr>\n",
       "      <th>mean</th>\n",
       "      <td>9435.000000</td>\n",
       "      <td>2022-03-15 00:28:27.763234304</td>\n",
       "      <td>6.441372e+06</td>\n",
       "      <td>2021.743734</td>\n",
       "      <td>6.217953</td>\n",
       "    </tr>\n",
       "    <tr>\n",
       "      <th>min</th>\n",
       "      <td>0.000000</td>\n",
       "      <td>2019-04-12 00:00:00</td>\n",
       "      <td>1.000000e+03</td>\n",
       "      <td>2019.000000</td>\n",
       "      <td>1.000000</td>\n",
       "    </tr>\n",
       "    <tr>\n",
       "      <th>25%</th>\n",
       "      <td>4717.500000</td>\n",
       "      <td>2021-04-09 00:00:00</td>\n",
       "      <td>1.000000e+06</td>\n",
       "      <td>2021.000000</td>\n",
       "      <td>4.000000</td>\n",
       "    </tr>\n",
       "    <tr>\n",
       "      <th>50%</th>\n",
       "      <td>9435.000000</td>\n",
       "      <td>2022-07-06 00:00:00</td>\n",
       "      <td>1.000000e+07</td>\n",
       "      <td>2022.000000</td>\n",
       "      <td>5.000000</td>\n",
       "    </tr>\n",
       "    <tr>\n",
       "      <th>75%</th>\n",
       "      <td>14152.500000</td>\n",
       "      <td>2023-07-10 00:00:00</td>\n",
       "      <td>1.000000e+07</td>\n",
       "      <td>2023.000000</td>\n",
       "      <td>10.000000</td>\n",
       "    </tr>\n",
       "    <tr>\n",
       "      <th>max</th>\n",
       "      <td>18870.000000</td>\n",
       "      <td>2024-01-11 00:00:00</td>\n",
       "      <td>1.000000e+07</td>\n",
       "      <td>2024.000000</td>\n",
       "      <td>12.000000</td>\n",
       "    </tr>\n",
       "    <tr>\n",
       "      <th>std</th>\n",
       "      <td>5447.732801</td>\n",
       "      <td>NaN</td>\n",
       "      <td>4.538947e+06</td>\n",
       "      <td>1.485145</td>\n",
       "      <td>3.631799</td>\n",
       "    </tr>\n",
       "  </tbody>\n",
       "</table>\n",
       "</div>"
      ],
      "text/plain": [
       "                 id               date_of_purchase  denomination  \\\n",
       "count  18871.000000                          18871  1.887100e+04   \n",
       "mean    9435.000000  2022-03-15 00:28:27.763234304  6.441372e+06   \n",
       "min        0.000000            2019-04-12 00:00:00  1.000000e+03   \n",
       "25%     4717.500000            2021-04-09 00:00:00  1.000000e+06   \n",
       "50%     9435.000000            2022-07-06 00:00:00  1.000000e+07   \n",
       "75%    14152.500000            2023-07-10 00:00:00  1.000000e+07   \n",
       "max    18870.000000            2024-01-11 00:00:00  1.000000e+07   \n",
       "std     5447.732801                            NaN  4.538947e+06   \n",
       "\n",
       "               Year         Month  \n",
       "count  18871.000000  18871.000000  \n",
       "mean    2021.743734      6.217953  \n",
       "min     2019.000000      1.000000  \n",
       "25%     2021.000000      4.000000  \n",
       "50%     2022.000000      5.000000  \n",
       "75%     2023.000000     10.000000  \n",
       "max     2024.000000     12.000000  \n",
       "std        1.485145      3.631799  "
      ]
     },
     "execution_count": 44,
     "metadata": {},
     "output_type": "execute_result"
    }
   ],
   "source": [
    "dfb.describe()"
   ]
  },
  {
   "cell_type": "markdown",
   "id": "00735f42-fc8f-4726-b53a-922491d594c9",
   "metadata": {},
   "source": [
    "### Get the yearly maximum and minimum of the denomination"
   ]
  },
  {
   "cell_type": "code",
   "execution_count": 47,
   "id": "e3bdfab0-dbee-4d82-a09a-6f88253b2ec2",
   "metadata": {},
   "outputs": [
    {
     "data": {
      "text/plain": [
       "Year\n",
       "2019    10000000\n",
       "2020    10000000\n",
       "2021    10000000\n",
       "2022    10000000\n",
       "2023    10000000\n",
       "2024    10000000\n",
       "Name: denomination, dtype: int64"
      ]
     },
     "execution_count": 47,
     "metadata": {},
     "output_type": "execute_result"
    }
   ],
   "source": [
    "dfb.groupby(\"Year\")[\"denomination\"].max()"
   ]
  },
  {
   "cell_type": "code",
   "execution_count": 48,
   "id": "2180e60a-2907-4de6-8d22-44877631b0ee",
   "metadata": {},
   "outputs": [
    {
     "data": {
      "text/plain": [
       "Year\n",
       "2019    1000\n",
       "2020    1000\n",
       "2021    1000\n",
       "2022    1000\n",
       "2023    1000\n",
       "2024    1000\n",
       "Name: denomination, dtype: int64"
      ]
     },
     "execution_count": 48,
     "metadata": {},
     "output_type": "execute_result"
    }
   ],
   "source": [
    "dfb.groupby(\"Year\")[\"denomination\"].min()"
   ]
  },
  {
   "cell_type": "markdown",
   "id": "5b2b2249-edad-4cb8-911f-6cfffad6f01a",
   "metadata": {},
   "source": [
    "### Find each purchaser's total, maximum and minimum denomination"
   ]
  },
  {
   "cell_type": "code",
   "execution_count": 49,
   "id": "5de90a57-4f5a-46f0-8166-15e389846728",
   "metadata": {},
   "outputs": [
    {
     "data": {
      "text/html": [
       "<div>\n",
       "<style scoped>\n",
       "    .dataframe tbody tr th:only-of-type {\n",
       "        vertical-align: middle;\n",
       "    }\n",
       "\n",
       "    .dataframe tbody tr th {\n",
       "        vertical-align: top;\n",
       "    }\n",
       "\n",
       "    .dataframe thead th {\n",
       "        text-align: right;\n",
       "    }\n",
       "</style>\n",
       "<table border=\"1\" class=\"dataframe\">\n",
       "  <thead>\n",
       "    <tr style=\"text-align: right;\">\n",
       "      <th></th>\n",
       "      <th>sum</th>\n",
       "      <th>max</th>\n",
       "      <th>min</th>\n",
       "    </tr>\n",
       "    <tr>\n",
       "      <th>purchaser_name</th>\n",
       "      <th></th>\n",
       "      <th></th>\n",
       "      <th></th>\n",
       "    </tr>\n",
       "  </thead>\n",
       "  <tbody>\n",
       "    <tr>\n",
       "      <th>14 REELS PLUS LLP</th>\n",
       "      <td>10000000</td>\n",
       "      <td>10000000</td>\n",
       "      <td>10000000</td>\n",
       "    </tr>\n",
       "    <tr>\n",
       "      <th>A B C INDIA LIMITED</th>\n",
       "      <td>4000000</td>\n",
       "      <td>1000000</td>\n",
       "      <td>100000</td>\n",
       "    </tr>\n",
       "    <tr>\n",
       "      <th>AAKANKSHA BAHETY</th>\n",
       "      <td>1000000</td>\n",
       "      <td>1000000</td>\n",
       "      <td>1000000</td>\n",
       "    </tr>\n",
       "    <tr>\n",
       "      <th>AALAYA CONSTRUCTIONS</th>\n",
       "      <td>10000000</td>\n",
       "      <td>10000000</td>\n",
       "      <td>10000000</td>\n",
       "    </tr>\n",
       "    <tr>\n",
       "      <th>AARISH SOLAR POWER PRIVATE LIMITED</th>\n",
       "      <td>20000000</td>\n",
       "      <td>10000000</td>\n",
       "      <td>10000000</td>\n",
       "    </tr>\n",
       "    <tr>\n",
       "      <th>...</th>\n",
       "      <td>...</td>\n",
       "      <td>...</td>\n",
       "      <td>...</td>\n",
       "    </tr>\n",
       "    <tr>\n",
       "      <th>YUVAN TRADING CONSULTANCY LLP</th>\n",
       "      <td>50000000</td>\n",
       "      <td>10000000</td>\n",
       "      <td>10000000</td>\n",
       "    </tr>\n",
       "    <tr>\n",
       "      <th>ZENSAR TECHNOLOGIES LTD</th>\n",
       "      <td>30000000</td>\n",
       "      <td>10000000</td>\n",
       "      <td>10000000</td>\n",
       "    </tr>\n",
       "    <tr>\n",
       "      <th>ZUVAN ENERGY PRIVATE LIMITED</th>\n",
       "      <td>10000000</td>\n",
       "      <td>10000000</td>\n",
       "      <td>10000000</td>\n",
       "    </tr>\n",
       "    <tr>\n",
       "      <th>ZUVAN ENERGY PVT LTD</th>\n",
       "      <td>20000000</td>\n",
       "      <td>10000000</td>\n",
       "      <td>10000000</td>\n",
       "    </tr>\n",
       "    <tr>\n",
       "      <th>ZYDUS HEALTHCARE LIMITED</th>\n",
       "      <td>290000000</td>\n",
       "      <td>10000000</td>\n",
       "      <td>10000000</td>\n",
       "    </tr>\n",
       "  </tbody>\n",
       "</table>\n",
       "<p>1316 rows × 3 columns</p>\n",
       "</div>"
      ],
      "text/plain": [
       "                                          sum       max       min\n",
       "purchaser_name                                                   \n",
       "14 REELS PLUS LLP                    10000000  10000000  10000000\n",
       "A B C INDIA LIMITED                   4000000   1000000    100000\n",
       "AAKANKSHA BAHETY                      1000000   1000000   1000000\n",
       "AALAYA CONSTRUCTIONS                 10000000  10000000  10000000\n",
       "AARISH SOLAR POWER PRIVATE LIMITED   20000000  10000000  10000000\n",
       "...                                       ...       ...       ...\n",
       "YUVAN TRADING CONSULTANCY LLP        50000000  10000000  10000000\n",
       "ZENSAR TECHNOLOGIES LTD              30000000  10000000  10000000\n",
       "ZUVAN ENERGY PRIVATE LIMITED         10000000  10000000  10000000\n",
       "ZUVAN ENERGY PVT LTD                 20000000  10000000  10000000\n",
       "ZYDUS HEALTHCARE LIMITED            290000000  10000000  10000000\n",
       "\n",
       "[1316 rows x 3 columns]"
      ]
     },
     "execution_count": 49,
     "metadata": {},
     "output_type": "execute_result"
    }
   ],
   "source": [
    "dfb.groupby('purchaser_name')['denomination'].agg(['sum', 'max', 'min'])"
   ]
  },
  {
   "cell_type": "code",
   "execution_count": null,
   "id": "c2f8d82e-2a9e-4f89-a3a0-763b193cb71c",
   "metadata": {},
   "outputs": [],
   "source": []
  }
 ],
 "metadata": {
  "kernelspec": {
   "display_name": "Python 3 (ipykernel)",
   "language": "python",
   "name": "python3"
  },
  "language_info": {
   "codemirror_mode": {
    "name": "ipython",
    "version": 3
   },
   "file_extension": ".py",
   "mimetype": "text/x-python",
   "name": "python",
   "nbconvert_exporter": "python",
   "pygments_lexer": "ipython3",
   "version": "3.12.1"
  }
 },
 "nbformat": 4,
 "nbformat_minor": 5
}
